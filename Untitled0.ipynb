{
  "nbformat": 4,
  "nbformat_minor": 0,
  "metadata": {
    "colab": {
      "name": "Untitled0.ipynb",
      "provenance": [],
      "authorship_tag": "ABX9TyMBzpIwUhHL74wxY+aIPJ9X",
      "include_colab_link": true
    },
    "kernelspec": {
      "name": "python3",
      "display_name": "Python 3"
    },
    "language_info": {
      "name": "python"
    }
  },
  "cells": [
    {
      "cell_type": "markdown",
      "metadata": {
        "id": "view-in-github",
        "colab_type": "text"
      },
      "source": [
        "<a href=\"https://colab.research.google.com/github/brunasiqueira3103/colab-exercicios/blob/main/Untitled0.ipynb\" target=\"_parent\"><img src=\"https://colab.research.google.com/assets/colab-badge.svg\" alt=\"Open In Colab\"/></a>"
      ]
    },
    {
      "cell_type": "code",
      "execution_count": 9,
      "metadata": {
        "colab": {
          "base_uri": "https://localhost:8080/"
        },
        "id": "3Fk4_e7ff6w_",
        "outputId": "9a7021c0-df3f-4908-8a61-291d4aede9ac"
      },
      "outputs": [
        {
          "output_type": "stream",
          "name": "stdout",
          "text": [
            "Dividendo: 10\n",
            "Divisor: 2\n",
            "O resto de 10 / 2 é 0\n",
            "\n",
            "vamos ao próximo exercício!\n",
            "\n",
            "Dividendo: 30\n",
            "Divisor: 2\n",
            "O resto é:  0\n"
          ]
        }
      ],
      "source": [
        "# exercício de resto de divisão\n",
        "#Escreva um programa que calcule o resto da divisão inteira entre dois números. Utilize apenas as operações de soma e subtração para calcular o resultado.\n",
        "\n",
        "dividendo = int(input(\"Dividendo: \"))\n",
        "divisor = int(input(\"Divisor: \"))\n",
        "quociente = 0\n",
        "x = dividendo\n",
        "while x >= divisor:\n",
        "    x = x - divisor\n",
        "    quociente = quociente + 1\n",
        "resto = x\n",
        "print(f\"O resto de {dividendo} / {divisor} é {resto}\" \"\\n\")\n",
        "print(\"vamos ao próximo exercício!\" \"\\n\")\n",
        "\n",
        "# Descobrindo  o restode outra forma\n",
        "\n",
        "dividendo = int(input(\"Dividendo: \"))\n",
        "divisor = int(input(\"Divisor: \"))\n",
        "\n",
        "resto = dividendo % divisor\n",
        "\n",
        "print(\"O resto é: \", resto)\n"
      ]
    }
  ]
}