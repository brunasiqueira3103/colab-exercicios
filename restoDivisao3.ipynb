{
  "nbformat": 4,
  "nbformat_minor": 0,
  "metadata": {
    "colab": {
      "name": "restoDivisao3.ipynb",
      "provenance": [],
      "authorship_tag": "ABX9TyP/autPZ1p8VfA8L97nU0Rf",
      "include_colab_link": true
    },
    "kernelspec": {
      "name": "python3",
      "display_name": "Python 3"
    },
    "language_info": {
      "name": "python"
    }
  },
  "cells": [
    {
      "cell_type": "markdown",
      "metadata": {
        "id": "view-in-github",
        "colab_type": "text"
      },
      "source": [
        "<a href=\"https://colab.research.google.com/github/brunasiqueira3103/colab-exercicios/blob/main/restoDivisao3.ipynb\" target=\"_parent\"><img src=\"https://colab.research.google.com/assets/colab-badge.svg\" alt=\"Open In Colab\"/></a>"
      ]
    },
    {
      "cell_type": "code",
      "source": [
        "#Modifique o programa para exibir os números pares de 50 a 100.\n",
        "\n",
        "w = 50\n",
        "if (w % 2 == 0) :\n",
        "  print(\"Número par.\")\n",
        "else:\n",
        "    print(\"Número ímpar\")"
      ],
      "metadata": {
        "colab": {
          "base_uri": "https://localhost:8080/"
        },
        "id": "ZKZm7f2coNob",
        "outputId": "5c5e111c-d611-4766-ccda-e1bfcb0f39ef"
      },
      "execution_count": 10,
      "outputs": [
        {
          "output_type": "stream",
          "name": "stdout",
          "text": [
            "Número par.\n"
          ]
        }
      ]
    },
    {
      "cell_type": "code",
      "source": [
        "print(3%2)\n",
        "print(4%2)\n",
        "print(5%2)\n",
        "print(7%3.1)\n",
        "\n",
        "print(900%100==0)\n",
        "\n",
        "num1 = float(input(\"Digite um número: \"))\n",
        "num2 = float(input(\"Digite outro número: \"))\n",
        "\n",
        "divisao = num1 / num2\n",
        "resto = num1 % num2\n",
        "print()\n",
        "print(num1, \"divido por\", num2, \"é igual a: \", divisao)\n",
        "print(\"O resto da divisão entre\", num1, \"e\", num2, \" é igual a:\", resto)"
      ],
      "metadata": {
        "colab": {
          "base_uri": "https://localhost:8080/"
        },
        "id": "GQwP9Vt4oGzT",
        "outputId": "00ebfd65-0602-483d-ef27-5dae5e6bc9a3"
      },
      "execution_count": 9,
      "outputs": [
        {
          "output_type": "stream",
          "name": "stdout",
          "text": [
            "1\n",
            "0\n",
            "1\n",
            "0.7999999999999998\n",
            "True\n",
            "Digite um número: 20\n",
            "Digite outro número: 2\n",
            "\n",
            "20.0 divido por 2.0 é igual a:  10.0\n",
            "O resto da divisão entre 20.0 e 2.0  é igual a: 0.0\n"
          ]
        }
      ]
    },
    {
      "cell_type": "code",
      "execution_count": null,
      "metadata": {
        "id": "cb9RJShrkd_2"
      },
      "outputs": [],
      "source": [
        "#Modifique o programa para exibir os números de 1 a 100.\n",
        "x = 1\n",
        "while x <= 100:\n",
        "    print(x)\n",
        "    x = x + 1\n",
        "\n",
        "print(\"próximo exercício\" \"\\n\")\n",
        "\n",
        "#Modifique o programa para exibir os números de 50 a 100.\n",
        "\n",
        "y = 50\n",
        "while y <= 100:\n",
        "  print(y)\n",
        "  y = y + 1\n",
        "\n",
        "print(\"próximo exercício\" \"\\n\")\n",
        "\n",
        "\n",
        "\n",
        "\n"
      ]
    }
  ]
}